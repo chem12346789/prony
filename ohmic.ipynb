{
 "cells": [
  {
   "cell_type": "code",
   "execution_count": null,
   "metadata": {
    "ExecuteTime": {
     "end_time": "2022-05-20T04:15:07.325082Z",
     "start_time": "2022-05-20T04:15:07.256082Z"
    }
   },
   "outputs": [],
   "source": [
    "import math\n",
    "from numpy import linalg as LA\n",
    "\n",
    "@njit()\n",
    "def fit_J(w, res, expn, etal, sigma):\n",
    "    for i in range(len(etal)):\n",
    "        res += etal[i] / (expn[i] + sigma * 1.j * w)\n",
    "\n",
    "\n",
    "@njit()\n",
    "def fit_t(t, res, expn, etal):\n",
    "    for i in range(len(etal)):\n",
    "        res += etal[i] * np.exp(-expn[i] * t)\n",
    "    return res"
   ]
  },
  {
   "cell_type": "code",
   "execution_count": null,
   "metadata": {
    "ExecuteTime": {
     "end_time": "2022-05-20T04:15:09.102163Z",
     "start_time": "2022-05-20T04:15:08.960919Z"
    }
   },
   "outputs": [],
   "source": [
    "nmod = 4\n",
    "lams1 = np.e\n",
    "lams2 = np.e\n",
    "gams1 = 1\n",
    "gams2 = 1\n",
    "omgs1 = 0\n",
    "omgs2 = 0\n",
    "temp = 0.0000000001\n",
    "beta = int(1 / temp)\n",
    "mu_x = 0\n",
    "\n",
    "def gen_jw(w):\n",
    "    return w * lams1 * np.exp(- gams1 * np.abs(w))\n",
    "\n",
    "#     jw = np.zeros_like(w)\n",
    "#     index = (w<=gams1) & (w>=-gams1)\n",
    "#     jw[index] = lams1 * np.sqrt(gams1**2 - w[index]**2)\n",
    "#     return jw\n",
    "\n",
    "len_ = 10000\n",
    "spe_wid = 10\n",
    "w = np.linspace(-spe_wid, spe_wid, len_)\n",
    "\n",
    "sigma = 1\n",
    "jw = gen_jw(w)\n",
    "jw1 = jw  / (1 - np.exp(- beta * w))\n",
    "plt.plot(w, jw)\n",
    "plt.plot(w, jw1)\n",
    "plt.xlim(-10, 10)"
   ]
  },
  {
   "cell_type": "code",
   "execution_count": null,
   "metadata": {
    "ExecuteTime": {
     "end_time": "2022-05-20T04:15:10.377803Z",
     "start_time": "2022-05-20T04:15:10.373690Z"
    }
   },
   "outputs": [],
   "source": [
    "jw"
   ]
  },
  {
   "cell_type": "code",
   "execution_count": null,
   "metadata": {
    "ExecuteTime": {
     "end_time": "2022-05-20T04:15:12.749981Z",
     "start_time": "2022-05-20T04:15:10.731895Z"
    }
   },
   "outputs": [],
   "source": [
    "n = 2000\n",
    "scale = 80\n",
    "\n",
    "scale_fft = 1000\n",
    "n_fft = 10000000\n",
    "\n",
    "n_rate = (scale_fft * scale/ (4 * n))\n",
    "print(n_rate)\n",
    "n_rate = int(n_rate)\n",
    "\n",
    "w = np.linspace(0, scale_fft * np.pi, n_fft + 1)[:-1]\n",
    "dw = w[1] - w[0]\n",
    "\n",
    "jw = gen_jw(w)\n",
    "cw1 = jw / (1 - np.exp(-beta * (w - mu_x)))\n",
    "cw2 = jw / (1 - np.exp(beta * (w - mu_x)))\n",
    "del jw\n",
    "\n",
    "cw1[0] = (cw1[1] + cw2[1]) / 4\n",
    "cw2[0] = (cw1[1] + cw2[1]) / 4\n",
    "fft_ct = (np.fft.fft(cw1) * dw + np.fft.ifft(cw2) * len(cw2) * dw) / np.pi\n",
    "fft_t = 2 * np.pi * np.fft.fftfreq(len(cw1), dw)\n",
    "del cw1, cw2\n",
    "\n",
    "fft_ct = fft_ct[(scale>=fft_t) & (fft_t >= 0)][::n_rate]\n",
    "fft_t = fft_t[(scale>=fft_t) & (fft_t >= 0)][::n_rate]\n",
    "\n",
    "t = fft_t\n",
    "res_t = np.zeros(len(t), dtype=complex)"
   ]
  },
  {
   "cell_type": "code",
   "execution_count": null,
   "metadata": {
    "ExecuteTime": {
     "end_time": "2022-05-20T04:15:12.848814Z",
     "start_time": "2022-05-20T04:15:12.751256Z"
    }
   },
   "outputs": [],
   "source": [
    "len_ = 100000\n",
    "spe_wid = 100\n",
    "w = np.linspace(-spe_wid, spe_wid, len_)\n",
    "\n",
    "sigma = 1\n",
    "jw = gen_jw(w)\n",
    "jw1 = jw / (1 - np.exp(-beta * w))\n",
    "# plt.plot(w, jw)\n",
    "plt.plot(w, jw1)\n",
    "# fft_ct[0] = fft_ct[0] / 2\n",
    "# plt.plot(2 * np.pi * np.fft.fftfreq(len(fft_ct), fft_t[1] - fft_t[0]),\n",
    "#          len(fft_ct) * (fft_t[1] - fft_t[0]) * np.fft.ifft(fft_ct))\n",
    "plt.xlim(-5, 5)\n",
    "# fft_ct[0] = fft_ct[0] * 2\n",
    "\n",
    "fft_ct = np.e * 2 / np.pi * (1 - fft_t * fft_t) / 2 / (1 + fft_t * fft_t) / (\n",
    "    1 + fft_t * fft_t) - 1.j* 2 / np.pi * np.e * fft_t / (1 + fft_t * fft_t) / (\n",
    "        1 + fft_t * fft_t)\n",
    "plt.plot(2 * np.pi * np.fft.fftfreq(len(fft_ct), fft_t[1] - fft_t[0]),\n",
    "         len(fft_ct) * (fft_t[1] - fft_t[0]) * np.fft.ifft(fft_ct), 'r')\n",
    "fft_ct"
   ]
  },
  {
   "cell_type": "code",
   "execution_count": null,
   "metadata": {
    "ExecuteTime": {
     "end_time": "2022-05-20T04:15:12.945819Z",
     "start_time": "2022-05-20T04:15:12.850398Z"
    }
   },
   "outputs": [],
   "source": [
    "plt.plot(fft_t, np.imag(fft_ct))\n",
    "plt.plot(fft_t, np.real(fft_ct))\n",
    "plt.xlim(0, 10)\n",
    "print(fft_ct[:100])\n",
    "print(fft_ct[-100:])"
   ]
  },
  {
   "cell_type": "code",
   "execution_count": null,
   "metadata": {
    "ExecuteTime": {
     "end_time": "2022-05-20T04:15:31.335570Z",
     "start_time": "2022-05-20T04:15:17.077385Z"
    }
   },
   "outputs": [],
   "source": [
    "n_sample = n + 1\n",
    "n_gamma_l = [8]\n",
    "h = np.imag(fft_ct)\n",
    "H = np.zeros((n_sample, n_sample))\n",
    "for i in range(n_sample):\n",
    "    H[i, :] = h[i:n_sample + i]\n",
    "sing_vs, Q = LA.eigh(H)\n",
    "# del H\n",
    "phase_mat = np.diag(\n",
    "    [np.exp(-1j * np.angle(sing_v) / 2.0) for sing_v in sing_vs])\n",
    "vs = np.array([np.abs(sing_v) for sing_v in sing_vs])\n",
    "Qp = np.dot(Q, phase_mat)\n",
    "sort_array = np.argsort(vs)[::-1]\n",
    "vs = vs[sort_array]\n",
    "Qp = (Qp[:, sort_array])\n",
    "vs = vs[:20]\n",
    "Qp = Qp[:, :20]\n",
    "\n",
    "for n_gamma in n_gamma_l:\n",
    "    print(\"len of gamma\", n_gamma)\n",
    "    gamma = np.roots(Qp[:, n_gamma][::-1])\n",
    "    gamma_new = gamma[np.argsort(np.abs(gamma))[:n_gamma]]\n",
    "    t_imag = 2 * n * np.log(gamma_new)\n",
    "    gamma_m = np.zeros((n_sample * 2 - 1, n_gamma), dtype=complex)\n",
    "    for i in range(n_gamma):\n",
    "        for j in range(n_sample * 2 - 1):\n",
    "            gamma_m[j, i] = gamma_new[i]**j\n",
    "    omega_imag = np.dot(LA.inv(np.dot(np.transpose(gamma_m), gamma_m)),\n",
    "                        np.dot(np.transpose(gamma_m), np.transpose(h)))\n",
    "\n",
    "    res_t = np.zeros(len(t), dtype=complex)\n",
    "    fit_t(fft_t, res_t, -t_imag / scale, omega_imag)\n",
    "    plt.plot(fft_t, np.imag(fft_ct) - res_t)\n",
    "    plt.savefig(\"imag_{}.pdf\".format(n_gamma))\n",
    "    plt.clf()\n",
    "\n",
    "h = np.real(fft_ct)\n",
    "H = np.zeros((n_sample, n_sample))\n",
    "for i in range(n_sample):\n",
    "    H[i, :] = h[i:n_sample + i]\n",
    "sing_vs, Q = LA.eigh(H)\n",
    "# del H\n",
    "phase_mat = np.diag(\n",
    "    [np.exp(-1j * np.angle(sing_v) / 2.0) for sing_v in sing_vs])\n",
    "vs = np.array([np.abs(sing_v) for sing_v in sing_vs])\n",
    "Qp = np.dot(Q, phase_mat)\n",
    "sort_array = np.argsort(vs)[::-1]\n",
    "vs = vs[sort_array]\n",
    "Qp = (Qp[:, sort_array])\n",
    "vs = vs[:20]\n",
    "Qp = Qp[:, :20]\n",
    "\n",
    "for n_gamma in n_gamma_l:\n",
    "    print(\"len of gamma\", n_gamma)\n",
    "    gamma = np.roots(Qp[:, n_gamma][::-1])\n",
    "    gamma_new = gamma[np.argsort(np.abs(gamma))[:n_gamma]]\n",
    "    t_real = 2 * n * np.log(gamma_new)\n",
    "    gamma_m = np.zeros((n_sample * 2 - 1, n_gamma), dtype=complex)\n",
    "    for i in range(n_gamma):\n",
    "        for j in range(n_sample * 2 - 1):\n",
    "            gamma_m[j, i] = gamma_new[i]**j\n",
    "    omega_real = np.dot(LA.inv(np.dot(np.transpose(gamma_m), gamma_m)),\n",
    "                        np.dot(np.transpose(gamma_m), np.transpose(h)))\n",
    "\n",
    "    res_t = np.zeros(len(t), dtype=complex)\n",
    "    fit_t(fft_t, res_t, -t_real / scale, omega_real)\n",
    "    plt.plot(fft_t, np.real(fft_ct) - res_t)\n",
    "    plt.savefig(\"real_{}.pdf\".format(n_gamma))\n",
    "    plt.clf()"
   ]
  },
  {
   "cell_type": "code",
   "execution_count": null,
   "metadata": {
    "ExecuteTime": {
     "end_time": "2022-05-20T04:15:31.347515Z",
     "start_time": "2022-05-20T04:15:31.344083Z"
    }
   },
   "outputs": [],
   "source": [
    "np.log(gamma_new)"
   ]
  },
  {
   "cell_type": "code",
   "execution_count": null,
   "metadata": {
    "ExecuteTime": {
     "end_time": "2022-05-20T04:15:31.355195Z",
     "start_time": "2022-05-20T04:15:31.352274Z"
    }
   },
   "outputs": [],
   "source": [
    "np.angle(gamma_new)"
   ]
  },
  {
   "cell_type": "code",
   "execution_count": null,
   "metadata": {
    "ExecuteTime": {
     "end_time": "2022-05-20T04:15:31.363275Z",
     "start_time": "2022-05-20T04:15:31.361748Z"
    }
   },
   "outputs": [],
   "source": [
    "# np.dot(phase_mat, H) - np.dot(H, phase_mat)"
   ]
  },
  {
   "cell_type": "code",
   "execution_count": null,
   "metadata": {
    "ExecuteTime": {
     "end_time": "2022-05-20T04:15:32.001885Z",
     "start_time": "2022-05-20T04:15:31.364486Z"
    }
   },
   "outputs": [],
   "source": [
    "etal1 = np.append(1.j * omega_imag, omega_real)\n",
    "etar1 = np.append(np.conjugate(1.j * omega_imag), np.conjugate(omega_real))\n",
    "etaa1 = np.append(np.abs(omega_imag), np.abs(omega_real))\n",
    "expn1 = np.append(-t_imag / scale, -t_real / scale)\n",
    "filter_ = 1e-3\n",
    "expn1 = expn1[np.abs(etal1) > filter_]\n",
    "etal1 = etal1[np.abs(etal1) > filter_]\n",
    "len_ = 100000\n",
    "spe_wid = 50\n",
    "w = np.linspace(-spe_wid, spe_wid, len_)\n",
    "phixx = gen_jw(w) / (1 - np.exp(- beta * w))\n",
    "res_J1 = np.zeros(len(w), dtype=complex)\n",
    "fit_J(w, res_J1, expn1, etal1, -1)\n",
    "plt.plot(w, (phixx.real))\n",
    "plt.plot(w, (res_J1.real), \"--\")\n",
    "plt.xlim(-5, 15)\n",
    "plt.savefig(\"res_ohmic.pdf\")\n",
    "plt.show()\n",
    "\n",
    "len_ = 1000000\n",
    "spe_wid = 0.2\n",
    "w = np.linspace(-spe_wid, spe_wid, len_)\n",
    "phixx = gen_jw(w) / (1 - np.exp(- beta * w))\n",
    "res_J1 = np.zeros(len(w), dtype=complex)\n",
    "fit_J(w, res_J1, expn1, etal1, -1)\n",
    "plt.plot(w, (phixx.real-res_J1.real), \"--\")"
   ]
  }
 ],
 "metadata": {
  "kernelspec": {
   "display_name": "Python 3",
   "language": "python",
   "name": "python3"
  },
  "language_info": {
   "codemirror_mode": {
    "name": "ipython",
    "version": 3
   },
   "file_extension": ".py",
   "mimetype": "text/x-python",
   "name": "python",
   "nbconvert_exporter": "python",
   "pygments_lexer": "ipython3",
   "version": "3.7.13"
  }
 },
 "nbformat": 4,
 "nbformat_minor": 4
}
