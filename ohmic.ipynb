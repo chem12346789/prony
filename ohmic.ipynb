{
 "cells": [
  {
   "cell_type": "markdown",
   "metadata": {},
   "source": [
    "# README\n",
    "\n",
    "This part of the code is suiting for the bosonic cases.\n",
    "Please cite [J. Chem. Phys. (in press) (2022)](https://aip.scitation.org/doi/10.1063/5.0095961)\n",
    "\n",
    "\n",
    "## IMPORT \n",
    "Import the library.\n",
    "\n",
    "### ISSUE\n",
    "If the numba package is not installed, you can just comment out \"from numba import njit\""
   ]
  },
  {
   "cell_type": "code",
   "execution_count": null,
   "metadata": {
    "ExecuteTime": {
     "end_time": "2022-05-22T13:00:35.898223Z",
     "start_time": "2022-05-22T13:00:35.864917Z"
    }
   },
   "outputs": [],
   "source": [
    "import math\n",
    "from numpy import linalg as LA\n",
    "from numba import njit\n",
    "\n",
    "@njit()\n",
    "def fit_J(w, res, expn, etal, sigma):\n",
    "    for i in range(len(etal)):\n",
    "        res += etal[i] / (expn[i] + sigma * 1.j * w)\n",
    "\n",
    "\n",
    "@njit()\n",
    "def fit_t(t, res, expn, etal):\n",
    "    for i in range(len(etal)):\n",
    "        res += etal[i] * np.exp(-expn[i] * t)\n",
    "    return res"
   ]
  },
  {
   "cell_type": "markdown",
   "metadata": {},
   "source": [
    "## Define bath density funciton\n",
    "### Input\n",
    "\n",
    "gams1 and lams1 are parameters using in gen_jw.\n",
    "gen_jw is the detailed density funciton of bath. Ie,\n",
    "\n",
    "Durde: $\\frac{2 \\lambda \\gamma \\omega}{\\omega^2 + \\gamma^2}$: w * lams1 * gams1 / (w * w + gams1 * gams1)\n",
    "\n",
    "Ohmic: $\\omega \\lambda e^{-\\omega_{c} |\\omega|}$: w * lams1 * np.exp(- gams1 * np.abs(w))\n",
    "\n",
    "Semicircle: $\\lambda \\sqrt{\\gamma^2 - \\omega^2}$: lams1 * np.sqrt(gams1\\*\\*2 - w\\[index\\]\\*\\*2)\n",
    "\n",
    "### Issue\n"
   ]
  },
  {
   "cell_type": "code",
   "execution_count": null,
   "metadata": {
    "ExecuteTime": {
     "end_time": "2022-05-22T13:00:38.230731Z",
     "start_time": "2022-05-22T13:00:37.832537Z"
    }
   },
   "outputs": [],
   "source": [
    "gams1 = 5\n",
    "lams1 = 1\n",
    "\n",
    "beta = 1\n",
    "\n",
    "def gen_jw(w):\n",
    "#     return w * lams1 * np.exp(- gams1 * np.abs(w))\n",
    "    return w * lams1 * gams1 / (w * w + gams1 * gams1)\n",
    "\n",
    "#     jw = np.zeros_like(w)\n",
    "#     index = (w<=gams1) & (w>=-gams1)\n",
    "#     jw[index] = lams1 * np.sqrt(gams1**2 - w[index]**2)\n",
    "#     return jw\n",
    "\n",
    "len_ = 100000\n",
    "spe_wid = 100\n",
    "w = np.linspace(-spe_wid, spe_wid, len_)\n",
    "\n",
    "sigma = 1\n",
    "jw = gen_jw(w)\n",
    "jw1 = jw  / (1 - np.exp(- beta * w))\n",
    "plt.plot(w, jw)\n",
    "plt.plot(w, jw1)\n",
    "plt.xlim(-100, 100)"
   ]
  },
  {
   "cell_type": "markdown",
   "metadata": {
    "ExecuteTime": {
     "end_time": "2022-05-21T07:30:50.197839Z",
     "start_time": "2022-05-21T07:30:50.193952Z"
    }
   },
   "source": [
    "## Preform FFT to obtain c(t)\n",
    "### Input\n",
    "n: number of samples in $t$-PFD. The time complexity is around O($n^3$).\n",
    "\n",
    "scale: length of samples.\n",
    "\n",
    "n_fft: number of samples in FFT. The time complexity is around O($n\\log(n)$).\n",
    "\n",
    "scale_fft: length of FFT.\n",
    "\n",
    "### What has been done?\n",
    "We do the FFT to $c(\\omega)$, then sample it to obtain n samples."
   ]
  },
  {
   "cell_type": "code",
   "execution_count": null,
   "metadata": {
    "ExecuteTime": {
     "end_time": "2022-05-22T13:02:26.647944Z",
     "start_time": "2022-05-22T13:02:25.350249Z"
    }
   },
   "outputs": [],
   "source": [
    "n = 2500\n",
    "scale = 20\n",
    "\n",
    "n_fft = 10000000\n",
    "scale_fft = 100000\n",
    "\n",
    "n_rate = (scale_fft * scale/ (4 * n))\n",
    "print(n_rate)\n",
    "n_rate = int(n_rate)\n",
    "\n",
    "w = np.linspace(0, scale_fft * np.pi, n_fft + 1)[:-1]\n",
    "dw = w[1] - w[0]\n",
    "\n",
    "jw = gen_jw(w)\n",
    "cw1 = jw / (1 - np.exp(-beta * w))\n",
    "cw2 = jw / (1 - np.exp(+beta * w))\n",
    "del jw\n",
    "\n",
    "cw1[0] = (cw1[1] + cw2[1]) / 4\n",
    "cw2[0] = (cw1[1] + cw2[1]) / 4\n",
    "fft_ct = (np.fft.fft(cw1) * dw - np.fft.ifft(cw2) * len(cw2) * dw) / np.pi\n",
    "fft_t = 2 * np.pi * np.fft.fftfreq(len(cw1), dw)\n",
    "del cw1, cw2\n",
    "\n",
    "fft_ct = fft_ct[(scale>=fft_t) & (fft_t >= 0)][::n_rate]\n",
    "fft_t = fft_t[(scale>=fft_t) & (fft_t >= 0)][::n_rate]\n",
    "\n",
    "t = fft_t\n",
    "res_t = np.zeros(len(t), dtype=complex)"
   ]
  },
  {
   "cell_type": "markdown",
   "metadata": {},
   "source": [
    "## Show the quality of the FFT and the sampling, Part I\n",
    "If there are two non-coincident curves, you should play with the cell above a little. "
   ]
  },
  {
   "cell_type": "code",
   "execution_count": null,
   "metadata": {
    "ExecuteTime": {
     "end_time": "2022-05-22T13:02:27.774092Z",
     "start_time": "2022-05-22T13:02:27.370962Z"
    }
   },
   "outputs": [],
   "source": [
    "len_ = 1000000\n",
    "spe_wid = 10\n",
    "w = np.linspace(-spe_wid, spe_wid, len_)\n",
    "\n",
    "sigma = 1\n",
    "jw = gen_jw(w)\n",
    "jw1 = jw / (1 - np.exp(-beta * w))\n",
    "# plt.plot(w, jw)\n",
    "plt.plot(w, jw1)\n",
    "fft_ct[0] = fft_ct[0] / 2\n",
    "plt.plot(2 * np.pi * np.fft.fftfreq(len(fft_ct), fft_t[1] - fft_t[0]),\n",
    "         len(fft_ct) * (fft_t[1] - fft_t[0]) * np.fft.ifft(fft_ct))\n",
    "plt.xlim(-10, 10)\n",
    "fft_ct[0] = fft_ct[0] * 2\n",
    "\n",
    "fft_ct"
   ]
  },
  {
   "cell_type": "markdown",
   "metadata": {},
   "source": [
    "## Show the quality of the FFT and the sampling, Part II\n",
    "The sampled curve should be smooth enough and $c(t) \\to 0$ when $t \\to \\inf$."
   ]
  },
  {
   "cell_type": "code",
   "execution_count": null,
   "metadata": {
    "ExecuteTime": {
     "end_time": "2022-05-22T13:02:31.955796Z",
     "start_time": "2022-05-22T13:02:31.810444Z"
    }
   },
   "outputs": [],
   "source": [
    "plt.plot(fft_t, np.imag(fft_ct))\n",
    "plt.plot(fft_t, np.real(fft_ct))\n",
    "# plt.xlim(0, 10)\n",
    "plt.show()\n",
    "print(fft_ct[:10])\n",
    "print(fft_ct[-10:])"
   ]
  },
  {
   "cell_type": "markdown",
   "metadata": {},
   "source": [
    "## PFD main cell\n",
    "This cell do the PFD scheme to obtain $\\eta_{k}$ and $\\gamma_{k}$.\n",
    "\n",
    "n\\_gamma should be large enough to obtain a good result, and it means that vs\\[n\\_gamma\\] should be small enough."
   ]
  },
  {
   "cell_type": "code",
   "execution_count": null,
   "metadata": {
    "ExecuteTime": {
     "end_time": "2022-05-22T13:04:14.339037Z",
     "start_time": "2022-05-22T13:03:49.494027Z"
    }
   },
   "outputs": [],
   "source": [
    "n_sample = n + 1\n",
    "h = np.imag(fft_ct)\n",
    "H = np.zeros((n_sample, n_sample))\n",
    "for i in range(n_sample):\n",
    "    H[i, :] = h[i:n_sample + i]\n",
    "sing_vs, Q = LA.eigh(H)\n",
    "# del H\n",
    "phase_mat = np.diag(\n",
    "    [np.exp(-1j * np.angle(sing_v) / 2.0) for sing_v in sing_vs])\n",
    "vs = np.array([np.abs(sing_v) for sing_v in sing_vs])\n",
    "Qp = np.dot(Q, phase_mat)\n",
    "sort_array = np.argsort(vs)[::-1]\n",
    "vs = vs[sort_array]\n",
    "Qp = (Qp[:, sort_array])\n",
    "vs = vs[:20]\n",
    "Qp = Qp[:, :20]\n",
    "print(vs)\n",
    "\n",
    "for n_gamma in [1]:\n",
    "    print(\"len of gamma\", n_gamma)\n",
    "    gamma = np.roots(Qp[:, n_gamma][::-1])\n",
    "    gamma_new = gamma[np.argsort(np.abs(gamma))[:n_gamma]]\n",
    "    t_imag = 2 * n * np.log(gamma_new)\n",
    "    gamma_m = np.zeros((n_sample * 2 - 1, n_gamma), dtype=complex)\n",
    "    for i in range(n_gamma):\n",
    "        for j in range(n_sample * 2 - 1):\n",
    "            gamma_m[j, i] = gamma_new[i]**j\n",
    "    omega_imag = np.dot(LA.inv(np.dot(np.transpose(gamma_m), gamma_m)),\n",
    "                        np.dot(np.transpose(gamma_m), np.transpose(h)))\n",
    "\n",
    "    res_t = np.zeros(len(t), dtype=complex)\n",
    "    fit_t(fft_t, res_t, -t_imag / scale, omega_imag)\n",
    "    plt.plot(fft_t, np.imag(fft_ct) - res_t)\n",
    "    plt.savefig(\"imag_{}.pdf\".format(n_gamma))\n",
    "    plt.clf()\n",
    "\n",
    "h = np.real(fft_ct)\n",
    "H = np.zeros((n_sample, n_sample))\n",
    "for i in range(n_sample):\n",
    "    H[i, :] = h[i:n_sample + i]\n",
    "sing_vs, Q = LA.eigh(H)\n",
    "# del H\n",
    "phase_mat = np.diag(\n",
    "    [np.exp(-1j * np.angle(sing_v) / 2.0) for sing_v in sing_vs])\n",
    "vs = np.array([np.abs(sing_v) for sing_v in sing_vs])\n",
    "Qp = np.dot(Q, phase_mat)\n",
    "sort_array = np.argsort(vs)[::-1]\n",
    "vs = vs[sort_array]\n",
    "Qp = (Qp[:, sort_array])\n",
    "vs = vs[:20]\n",
    "Qp = Qp[:, :20]\n",
    "print(vs)\n",
    "\n",
    "for n_gamma in [2]:\n",
    "    print(\"len of gamma\", n_gamma)\n",
    "    gamma = np.roots(Qp[:, n_gamma][::-1])\n",
    "    gamma_new = gamma[np.argsort(np.abs(gamma))[:n_gamma]]\n",
    "    t_real = 2 * n * np.log(gamma_new)\n",
    "    gamma_m = np.zeros((n_sample * 2 - 1, n_gamma), dtype=complex)\n",
    "    for i in range(n_gamma):\n",
    "        for j in range(n_sample * 2 - 1):\n",
    "            gamma_m[j, i] = gamma_new[i]**j\n",
    "    omega_real = np.dot(LA.inv(np.dot(np.transpose(gamma_m), gamma_m)),\n",
    "                        np.dot(np.transpose(gamma_m), np.transpose(h)))\n",
    "\n",
    "    res_t = np.zeros(len(t), dtype=complex)\n",
    "    fit_t(fft_t, res_t, -t_real / scale, omega_real)\n",
    "    plt.plot(fft_t, np.real(fft_ct) - res_t)\n",
    "    plt.savefig(\"real_{}.pdf\".format(n_gamma))\n",
    "    plt.clf()"
   ]
  },
  {
   "cell_type": "markdown",
   "metadata": {
    "ExecuteTime": {
     "end_time": "2022-05-21T07:32:37.704962Z",
     "start_time": "2022-05-21T07:32:37.702166Z"
    }
   },
   "source": [
    "## Validation of PFD\n",
    "Show the error of PFD in the frequency domain. In partice, you can omit some small $\\eta$"
   ]
  },
  {
   "cell_type": "code",
   "execution_count": null,
   "metadata": {
    "ExecuteTime": {
     "end_time": "2022-05-22T13:04:14.810335Z",
     "start_time": "2022-05-22T13:04:14.342482Z"
    }
   },
   "outputs": [],
   "source": [
    "etal1 = np.append(1.j * omega_imag, omega_real)\n",
    "etar1 = np.append(np.conjugate(1.j * omega_imag), np.conjugate(omega_real))\n",
    "etaa1 = np.append(np.abs(omega_imag), np.abs(omega_real))\n",
    "expn1 = np.append(-t_imag / scale, -t_real / scale)\n",
    "\n",
    "# filter_ = 1e-3\n",
    "# expn1 = expn1[np.abs(etal1) > filter_]\n",
    "# etal1 = etal1[np.abs(etal1) > filter_]\n",
    "\n",
    "len_ = 100000\n",
    "spe_wid = 50\n",
    "w = np.linspace(-spe_wid, spe_wid, len_)\n",
    "phixx = gen_jw(w) / (1 - np.exp(- beta * w))\n",
    "res_J1 = np.zeros(len(w), dtype=complex)\n",
    "fit_J(w, res_J1, expn1, etal1, -1)\n",
    "plt.plot(w, (phixx.real))\n",
    "plt.plot(w, (res_J1.real), \"--\")\n",
    "plt.xlim(-5, 15)\n",
    "plt.savefig(\"res_ohmic.pdf\")\n",
    "plt.show()\n",
    "\n",
    "len_ = 100000\n",
    "spe_wid = 20\n",
    "w = np.linspace(-spe_wid, spe_wid, len_)\n",
    "phixx = gen_jw(w) / (1 - np.exp(- beta * w))\n",
    "\n",
    "res_J1 = np.zeros(len(w), dtype=complex)\n",
    "fit_J(w, res_J1, expn1, etal1, -1)\n",
    "plt.plot(w, (phixx.real-res_J1.real), \"--\")"
   ]
  },
  {
   "cell_type": "markdown",
   "metadata": {},
   "source": [
    "## Gen input file "
   ]
  },
  {
   "cell_type": "code",
   "execution_count": null,
   "metadata": {
    "ExecuteTime": {
     "end_time": "2022-05-22T12:54:19.966793Z",
     "start_time": "2022-05-22T12:54:19.944288Z"
    }
   },
   "outputs": [],
   "source": [
    "expn_imag_sort = np.argsort(np.abs(np.imag(expn1)))[::-1]\n",
    "expn_imag = np.sort(np.abs(np.imag(expn1)))[::-1]\n",
    "expn1 = expn1[expn_imag_sort]\n",
    "etal1 = etal1[expn_imag_sort]\n",
    "etar1 = etal1[expn_imag_sort]\n",
    "expn_val_cc = np.where(expn1[expn_imag > 1e-10])[0]\n",
    "etaa1 = np.zeros(len(etal1), dtype=float)\n",
    "for ii in range(0, len(expn_val_cc), 2):\n",
    "    even_i = ii\n",
    "    odd_i = ii + 1\n",
    "    etar1[even_i] = np.conj(etal1[odd_i])\n",
    "    etar1[odd_i] = np.conj(etal1[even_i])\n",
    "    etaa1[even_i] = np.abs(etal1[even_i])\n",
    "    etaa1[odd_i] = np.abs(etal1[odd_i])\n",
    "for ii in range(len(expn_val_cc), len(expn1)):\n",
    "    even_i = ii\n",
    "    etar1[even_i] = np.conj(etal1[even_i])\n",
    "    etaa1[even_i] = np.abs(etal1[even_i])\n",
    "\n",
    "nmod = 1\n",
    "expn = expn1.copy()\n",
    "etal = etal1.copy()\n",
    "etar = etar1.copy()\n",
    "etaa = etaa1.copy()"
   ]
  },
  {
   "cell_type": "code",
   "execution_count": null,
   "metadata": {},
   "outputs": [],
   "source": [
    "def arma_write(ndarray, filename):\n",
    "\n",
    "    shape = ndarray.shape\n",
    "    dimen = len(shape)\n",
    "\n",
    "    with open(filename, 'w') as f:\n",
    "        if dimen == 1:\n",
    "            if issubclass(type(ndarray[0]), np.int_):\n",
    "                print('ARMA_MAT_TXT_IS004\\n%d %d' % (shape[0], 1), file=f)\n",
    "                for row in ndarray:\n",
    "                    print('%d' % row, file=f)\n",
    "            elif issubclass(type(ndarray[0]), float):\n",
    "                print('ARMA_MAT_TXT_FN008\\n%d %d' % (shape[0], 1), file=f)\n",
    "                for row in ndarray:\n",
    "                    print('%.8e' % row, file=f)\n",
    "            elif issubclass(type(ndarray[0]), complex):\n",
    "                print('ARMA_MAT_TXT_FC016\\n%d %d' % (shape[0], 1), file=f)\n",
    "                for row in ndarray:\n",
    "                    print('(%.8e,%-.8e)' % (row.real, row.imag), file=f)\n",
    "\n",
    "        elif dimen == 2:\n",
    "\n",
    "            if issubclass(type(ndarray[0, 0]), np.int_):\n",
    "                print('ARMA_MAT_TXT_IS004\\n%d %d' % (shape[0], shape[1]),\n",
    "                      file=f)\n",
    "                for row in ndarray:\n",
    "                    print(' '.join('%d' % x for x in row), file=f)\n",
    "            elif issubclass(type(ndarray[0, 0]), float):\n",
    "                print('ARMA_MAT_TXT_FN008\\n%d %d' % (shape[0], shape[1]),\n",
    "                      file=f)\n",
    "                for row in ndarray:\n",
    "                    print(' '.join('%.8e' % x for x in row), file=f)\n",
    "            elif issubclass(type(ndarray[0, 0]), complex):\n",
    "                print('ARMA_MAT_TXT_FC016\\n%d %d' % (shape[0], shape[1]),\n",
    "                      file=f)\n",
    "                for row in ndarray:\n",
    "                    print(' '.join('(%.8e,%-.8e)' % (x.real, x.imag)\n",
    "                                   for x in row),\n",
    "                          file=f)\n",
    "\n",
    "        elif dimen == 3:\n",
    "\n",
    "            if issubclass(type(ndarray[0, 0, 0]), np.int_):\n",
    "                print('ARMA_CUB_TXT_IS004\\n%d %d %d' %\n",
    "                      (shape[1], shape[2], shape[0]),\n",
    "                      file=f)\n",
    "                for slc in ndarray:\n",
    "                    for row in slc:\n",
    "                        print(' '.join('%d' % x for x in row))\n",
    "            elif issubclass(type(ndarray[0, 0, 0]), float):\n",
    "                print('ARMA_CUB_TXT_FN008\\n%d %d %d' %\n",
    "                      (shape[1], shape[2], shape[0]),\n",
    "                      file=f)\n",
    "                for slc in ndarray:\n",
    "                    for row in slc:\n",
    "                        print(' '.join('%-.8e' % x for x in row), file=f)\n",
    "            elif issubclass(type(ndarray[0, 0, 0]), complex):\n",
    "                print('ARMA_CUB_TXT_FC016\\n%d %d %d' %\n",
    "                      (shape[1], shape[2], shape[0]),\n",
    "                      file=f)\n",
    "                for slc in ndarray:\n",
    "                    for row in slc:\n",
    "                        print(' '.join('(%.8e,%-.8e)' % (x.real, x.imag)\n",
    "                                       for x in row),\n",
    "                              file=f)\n",
    "\n",
    "\n",
    "arma_write(expn, 'inp_expn.mat')\n",
    "arma_write(etal, 'inp_etal.mat')\n",
    "arma_write(etar, 'inp_etar.mat')\n",
    "arma_write(etaa, 'inp_etaa.mat')"
   ]
  },
  {
   "cell_type": "markdown",
   "metadata": {},
   "source": [
    "## "
   ]
  }
 ],
 "metadata": {
  "kernelspec": {
   "display_name": "Python 3",
   "language": "python",
   "name": "python3"
  },
  "language_info": {
   "codemirror_mode": {
    "name": "ipython",
    "version": 3
   },
   "file_extension": ".py",
   "mimetype": "text/x-python",
   "name": "python",
   "nbconvert_exporter": "python",
   "pygments_lexer": "ipython3",
   "version": "3.7.13"
  }
 },
 "nbformat": 4,
 "nbformat_minor": 4
}
